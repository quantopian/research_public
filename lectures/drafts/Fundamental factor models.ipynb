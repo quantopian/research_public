{
 "cells": [
  {
   "cell_type": "markdown",
   "metadata": {},
   "source": [
    "# Fundamental factor models\n",
    "By Evgenia \"Jenny\" Nitishinskaya and Delaney Granizo-Mackenzie\n",
    "\n",
    "Notebook released under the Creative Commons Attribution 4.0 License.\n",
    "\n",
    "---\n",
    "\n",
    "Fundamentals are data having to do with the asset issuer, like the sector, size, and expenses of the company. We can use this data to build a linear factor model, expressing the returns as\n",
    "\n",
    "$$R_i = a_i + b_{i1} F_1 + b_{i2} F_2 + \\ldots + b_{iK} F_K + \\epsilon_i$$\n",
    "\n",
    "There are two different approaches to computing the factors $F_j$, which represent the returns associated with some fundamental characteristics, and the factor sensitivities $b_{ij}$.\n",
    "\n",
    "In the first, we start by representing each characteristic of interest by a portfolio: we sort all assets by that characteristic, then build the portfolio by going long the top quantile of assets and short the bottom quantile. The factor corresponding to this characteristic is the return on this portfolio. Then, the $b_{ij}$ are estimated for each asset $i$ by regressing over the historical values of $R_i$ and of the factors.\n",
    "\n",
    "We start by getting the fundamentals data for all assets and constructing the portfolios for each characteristic:"
   ]
  },
  {
   "cell_type": "code",
   "execution_count": 58,
   "metadata": {
    "collapsed": false
   },
   "outputs": [],
   "source": [
    "import numpy as np\n",
    "import statsmodels.api as sm\n",
    "from statsmodels import regression\n",
    "import matplotlib.pyplot as plt\n",
    "import pandas as pd\n",
    "\n",
    "# Get market cap and book-to-price for all assets in universe\n",
    "fundamentals = init_fundamentals()\n",
    "data = get_fundamentals(query(fundamentals.valuation.market_cap,\n",
    "                              fundamentals.valuation_ratios.book_value_yield), '2015-07-31').T\n",
    "\n",
    "# Drop missing data\n",
    "data.dropna(inplace=True)\n",
    "\n",
    "# Following the Fama-French model, ignore assets with negative book-to-price\n",
    "data = data.loc[data['book_value_yield'] > 0]"
   ]
  },
  {
   "cell_type": "code",
   "execution_count": 59,
   "metadata": {
    "collapsed": false
   },
   "outputs": [],
   "source": [
    "# As per Fama-French, get the top 30% and bottom 30% of stocks by market cap\n",
    "market_cap_top = data.sort('market_cap')[7*len(data)/10:]\n",
    "market_cap_bottom = data.sort('market_cap')[:3*len(data)/10]\n",
    "\n",
    "# Factor 1 is returns on portfolio that is long the top stocks and short the bottom stocks\n",
    "f1 = (np.mean(get_pricing(market_cap_top.index, fields='price',\n",
    "                          start_date='2014-07-31', end_date='2015-07-31').pct_change()[1:].T.dropna()) -\n",
    "      np.mean(get_pricing(market_cap_bottom.index, fields='price',\n",
    "                          start_date='2014-07-31', end_date='2015-07-31').pct_change()[1:].T.dropna()))"
   ]
  },
  {
   "cell_type": "code",
   "execution_count": 60,
   "metadata": {
    "collapsed": false
   },
   "outputs": [],
   "source": [
    "# Repeat above procedure for book-to-price\n",
    "bp_top = data.sort('book_value_yield')[7*len(data)/10:]\n",
    "bp_bottom = data.sort('book_value_yield')[:3*len(data)/10]\n",
    "\n",
    "f2 = (np.mean(get_pricing(bp_top.index, fields='price',\n",
    "                          start_date='2014-07-31', end_date='2015-07-31').pct_change()[1:].T.dropna()) -\n",
    "      np.mean(get_pricing(bp_bottom.index, fields='price',\n",
    "                          start_date='2014-07-31', end_date='2015-07-31').pct_change()[1:].T.dropna()))"
   ]
  },
  {
   "cell_type": "markdown",
   "metadata": {},
   "source": [
    "Now that we have returns series representing our factors, we can compute the factor model for any return stream using a linear regression. Below, we compute the factor sensitivities for returns on Alcoa stock:"
   ]
  },
  {
   "cell_type": "code",
   "execution_count": 36,
   "metadata": {
    "collapsed": false
   },
   "outputs": [],
   "source": [
    "# Get returns data for our asset\n",
    "asset = get_pricing('AA', fields='price', start_date='2014-07-31', end_date='2015-07-31').pct_change()[1:]"
   ]
  },
  {
   "cell_type": "code",
   "execution_count": 82,
   "metadata": {
    "collapsed": false
   },
   "outputs": [
    {
     "name": "stdout",
     "output_type": "stream",
     "text": [
      "Historical sensitivities of AA returns to factors:\n",
      "Market cap: 0.620990\n",
      "B/P: 0.501680\n",
      "\n",
      "Values of factors on 2015-07-31:\n",
      "Market cap: 0.002490\n",
      "B/P: -0.008622\n"
     ]
    }
   ],
   "source": [
    "# Perform linear regression to get the coefficients in the model\n",
    "mlr = regression.linear_model.OLS(asset, sm.add_constant(np.column_stack((f1, f2)))).fit()\n",
    "\n",
    "# Print the coefficients from the linear regression\n",
    "print'Historical sensitivities of AA returns to factors:\\nMarket cap: %f\\nB/P: %f' % (mlr.params[1],\n",
    "                                                                                      mlr.params[2])\n",
    "# Print the latest values for each of the factors\n",
    "print '\\nValues of factors on 2015-07-31:\\nMarket cap: %f\\nB/P: %f' % (f1[-1], f2[-1])"
   ]
  },
  {
   "cell_type": "markdown",
   "metadata": {},
   "source": [
    "With the other method, we calculate the coefficients $b_{ij}$ from the formula\n",
    "\n",
    "$$ b_{ij} = \\frac{\\text{Value of factor for asset }i - \\text{Average value of factor}}{\\sigma(\\text{Factor values})} $$\n",
    "\n",
    "By scaling the value of the factor in this way, we make the coefficients comparable across factors. The exceptions to this formula are indicator variables, which are set to 1 for true and 0 for false. One example is industry membership: the coefficient tells us whether the asset belongs to the industry or not. After we calculate all of the coefficients, we estimate $F_j$ and $a_i$ using a cross-sectional regression (i.e. at each time step, we perform a regression using the equations for all of the assets).\n",
    "\n",
    "Following this procedure, we get the cross-sectional returns on 2015-07-31, and compute the coefficients for all assets:"
   ]
  },
  {
   "cell_type": "code",
   "execution_count": 66,
   "metadata": {
    "collapsed": false
   },
   "outputs": [],
   "source": [
    "# Get one day's worth of cross-sectional returns\n",
    "cs_returns = get_pricing(data.index, fields='price',\n",
    "                         start_date='2015-07-30', end_date='2015-07-31').pct_change()[1:].T.dropna()\n",
    "\n",
    "# Only look at fundamentals data of assets that we have pricing data for\n",
    "data = data.loc[cs_returns.index]\n",
    "\n",
    "# Compute coefficients according to formula above\n",
    "coeffs = (data - data.mean())/data.std()"
   ]
  },
  {
   "cell_type": "markdown",
   "metadata": {},
   "source": [
    "Now that we have the factor sensitivities, we use a linear regression to compute the factors on 2015-07-31:"
   ]
  },
  {
   "cell_type": "code",
   "execution_count": 67,
   "metadata": {
    "collapsed": false
   },
   "outputs": [],
   "source": [
    "mlr = regression.linear_model.OLS(cs_returns,\n",
    "                                  sm.add_constant(coeffs)).fit()"
   ]
  },
  {
   "cell_type": "code",
   "execution_count": 68,
   "metadata": {
    "collapsed": false
   },
   "outputs": [
    {
     "name": "stdout",
     "output_type": "stream",
     "text": [
      "Sensitivities of AA returns:\n",
      "market_cap          0.168669\n",
      "book_value_yield    0.175679\n",
      "Name: Equity(2 [AA]), dtype: float64\n",
      "\n",
      "Factors on 2015-07-31:\n",
      "market_cap         -0.000758\n",
      "book_value_yield   -0.002941\n",
      "dtype: float64\n"
     ]
    }
   ],
   "source": [
    "# Print the coefficients we computed for AA\n",
    "print 'Sensitivities of AA returns:\\n', coeffs.iloc[0]\n",
    "\n",
    "# Print factor values from linear regression\n",
    "print '\\nFactors on 2015-07-31:\\n', mlr.params[1:]"
   ]
  }
 ],
 "metadata": {
  "kernelspec": {
   "display_name": "Python 2",
   "language": "python",
   "name": "python2"
  },
  "language_info": {
   "codemirror_mode": {
    "name": "ipython",
    "version": 2
   },
   "file_extension": ".py",
   "mimetype": "text/x-python",
   "name": "python",
   "nbconvert_exporter": "python",
   "pygments_lexer": "ipython2",
   "version": "2.7.6"
  }
 },
 "nbformat": 4,
 "nbformat_minor": 0
}

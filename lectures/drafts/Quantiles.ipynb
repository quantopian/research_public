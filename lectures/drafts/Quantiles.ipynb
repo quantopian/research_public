{
 "cells": [
  {
   "cell_type": "markdown",
   "metadata": {},
   "source": [
    "# Quantiles\n",
    "By Evgenia \"Jenny\" Nitishinskaya and Delaney Granizo-Mackenzie\n",
    "\n",
    "Notebook released under the Creative Commons Attribution 4.0 License.\n",
    "\n",
    "---\n",
    "\n",
    "Quantiles are values defined similarly to the median. Two common kinds are quartiles, which divide the data set into fourths, and percentiles, which divide it into hundredths. The median can also be called the second quartile or the 50th percentile. In general, the $y$th percentile is the value such that $y$ percent of the observations are less than it, and the $n$th quartile is the value such that $n$ fourths of the observations are less than it.\n",
    "\n",
    "As with the median, there is not always a value that divides the data set perfectly, especially for small data sets. To find the position of the $y$th percentile in a list  of observations $X_1, X_2, \\ldots, X_n$ sorted in increasing order is\n",
    "$$ L_y = (n + 1) \\frac{y}{100} $$\n",
    "where $n$ is the length of our list of observations. If this gives a fractional position, we interpolate between the positions before and after. For instance, if $L_y = 7.85$, the $y$th percentile would be $.85$ of the way along from $X_7$ to $X_8$, which evaluates to $X_7 + .85(X_8 - X_7)$."
   ]
  },
  {
   "cell_type": "code",
   "execution_count": 31,
   "metadata": {
    "collapsed": false
   },
   "outputs": [
    {
     "name": "stdout",
     "output_type": "stream",
     "text": [
      "[ 1  4 10 14 22 23 24 27 35 40 44 45 53 60 61 71 73 79 88 93 93]\n",
      "50th percentile: 44.0\n",
      "95th percentile: 93.0\n",
      "11th percentile: 10.8\n"
     ]
    }
   ],
   "source": [
    "import numpy as np\n",
    "\n",
    "# Generate 21 random integers and sort them\n",
    "X = np.random.randint(100, size=21)\n",
    "X.sort()\n",
    "print X\n",
    "\n",
    "print '50th percentile:', np.percentile(X, 50)\n",
    "print '95th percentile:', np.percentile(X, 95)\n",
    "print '11th percentile:', np.percentile(X, 11)"
   ]
  },
  {
   "cell_type": "markdown",
   "metadata": {},
   "source": [
    "Quantiles are often used to report rankings or to refer to groups by their performance. For instance, if you are examining companies of different sizes, you can take the 95th percentile of companies by market value of equity as your sample of large companies."
   ]
  }
 ],
 "metadata": {
  "kernelspec": {
   "display_name": "Python 2",
   "language": "python",
   "name": "python2"
  },
  "language_info": {
   "codemirror_mode": {
    "name": "ipython",
    "version": 2
   },
   "file_extension": ".py",
   "mimetype": "text/x-python",
   "name": "python",
   "nbconvert_exporter": "python",
   "pygments_lexer": "ipython2",
   "version": "2.7.6"
  }
 },
 "nbformat": 4,
 "nbformat_minor": 0
}

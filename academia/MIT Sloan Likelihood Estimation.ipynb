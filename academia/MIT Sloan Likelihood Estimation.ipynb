{
 "cells": [
  {
   "cell_type": "markdown",
   "metadata": {},
   "source": [
    "#Performing Maximum Likelihood Estimates (MLEs) in IPython\n",
    "By Delaney Granizo-Mackenzie\n",
    "\n",
    "Notebook released under the Creative Commons Attribution 4.0 License.\n",
    "\n",
    "---"
   ]
  },
  {
   "cell_type": "markdown",
   "metadata": {},
   "source": [
    "In this tutorial notebook we'll do the following things:\n",
    "1. Compute the MLE for a normal distribution.\n",
    "2. Compute the MLE for an exponential distribution.\n",
    "3. Fit a normal distribution to asset returns using MLE."
   ]
  },
  {
   "cell_type": "markdown",
   "metadata": {},
   "source": [
    "First we need to import some libraries"
   ]
  },
  {
   "cell_type": "code",
   "execution_count": 249,
   "metadata": {
    "collapsed": true
   },
   "outputs": [],
   "source": [
    "import math\n",
    "import matplotlib.pyplot as plt\n",
    "import numpy as np\n",
    "import scipy\n",
    "import scipy.stats"
   ]
  },
  {
   "cell_type": "markdown",
   "metadata": {},
   "source": [
    "##Normal Distribution\n",
    "We'll start by sampling some data from a normal distribution."
   ]
  },
  {
   "cell_type": "code",
   "execution_count": 250,
   "metadata": {
    "collapsed": true
   },
   "outputs": [],
   "source": [
    "TRUE_MEAN = 40\n",
    "TRUE_STD = 10\n",
    "X = numpy.random.normal(TRUE_MEAN, TRUE_STD, 1000)"
   ]
  },
  {
   "cell_type": "markdown",
   "metadata": {},
   "source": [
    "Now we'll define functions that given our data, will compute the MLE for the $\\mu$ and $\\sigma$ parameters of the normal distribution.\n",
    "\n",
    "Recall that\n",
    "\n",
    "$$\\hat\\mu = \\frac{1}{T}\\sum_{t=1}^{T} x_t$$\n",
    "\n",
    "$$\\hat\\sigma = \\sqrt{\\frac{1}{T}\\sum_{t=1}^{T}{(x_t - \\hat\\mu)^2}}$$"
   ]
  },
  {
   "cell_type": "code",
   "execution_count": 251,
   "metadata": {
    "collapsed": false
   },
   "outputs": [],
   "source": [
    "def normal_mu_MLE(X):\n",
    "    # Get the number of observations\n",
    "    T = len(data)\n",
    "    # Sum the observations\n",
    "    s = sum(X)\n",
    "    return 1.0/T * s\n",
    "\n",
    "def normal_sigma_MLE(X):\n",
    "    T = len(X)\n",
    "    # Get the mu MLE\n",
    "    mu = normal_mu_mle(X)\n",
    "    # Sum the square of the differences\n",
    "    s = sum( math.pow((X - mu), 2) )\n",
    "    # Compute sigma^2\n",
    "    sigma_squared = 1.0/T * s\n",
    "    return math.sqrt(sigma_squared)"
   ]
  },
  {
   "cell_type": "markdown",
   "metadata": {},
   "source": [
    "Now let's try our functions out on our sample data and see how they compare to the built-in `np.mean` and `np.std`"
   ]
  },
  {
   "cell_type": "code",
   "execution_count": 252,
   "metadata": {
    "collapsed": false
   },
   "outputs": [
    {
     "name": "stdout",
     "output_type": "stream",
     "text": [
      "Mean Estimation\n",
      "39.8835023788\n",
      "39.8835023788\n",
      "Standard Deviation Estimation\n",
      "9.87441843629\n",
      "9.87441843629\n"
     ]
    }
   ],
   "source": [
    "print \"Mean Estimation\"\n",
    "print normal_mu_mle(X)\n",
    "print np.mean(X)\n",
    "print \"Standard Deviation Estimation\"\n",
    "print normal_sigma_mle(X)\n",
    "print np.std(X)"
   ]
  },
  {
   "cell_type": "markdown",
   "metadata": {},
   "source": [
    "Now let's estimate both parameters at once with scipy's built in `fit()` function."
   ]
  },
  {
   "cell_type": "code",
   "execution_count": 253,
   "metadata": {
    "collapsed": false
   },
   "outputs": [
    {
     "name": "stdout",
     "output_type": "stream",
     "text": [
      "mu estimate: 39.8835023788\n",
      "std estimate: 9.87441843629\n"
     ]
    }
   ],
   "source": [
    "mu, std = scipy.stats.norm.fit(X)\n",
    "print \"mu estimate: \" + str(mu)\n",
    "print \"std estimate: \" + str(std)"
   ]
  },
  {
   "cell_type": "markdown",
   "metadata": {},
   "source": [
    "Now let's plot the distribution PDF along with the data to see how well it fits. We can do that by accessing the pdf provided in `scipy.stats.norm.pdf`."
   ]
  },
  {
   "cell_type": "code",
   "execution_count": 254,
   "metadata": {
    "collapsed": false
   },
   "outputs": [
    {
     "data": {
      "image/png": "[encoded data removed]",
      "text/plain": [
       "<matplotlib.figure.Figure at 0x7fcc44453e10>"
      ]
     },
     "metadata": {},
     "output_type": "display_data"
    }
   ],
   "source": [
    "pdf = scipy.stats.norm.pdf\n",
    "# We would like to plot our data along an x-axis ranging from 0-80 with 80 intervals\n",
    "# (increments of 1)\n",
    "x = np.linspace(0, 80, 80)\n",
    "h = plt.hist(X, bins=x, normed='true')\n",
    "l = plt.plot(pdf(x, loc=mu, scale=std))"
   ]
  },
  {
   "cell_type": "markdown",
   "metadata": {},
   "source": [
    "##Exponential Distribution\n",
    "Let's do the same thing, but for the exponential distribution. We'll start by sampling some data."
   ]
  },
  {
   "cell_type": "code",
   "execution_count": 255,
   "metadata": {
    "collapsed": true
   },
   "outputs": [],
   "source": [
    "TRUE_LAMBDA = 5\n",
    "X = np.random.exponential(TRUE_LAMBDA, 1000)"
   ]
  },
  {
   "cell_type": "markdown",
   "metadata": {},
   "source": [
    "`numpy` defines the exponential distribution as\n",
    "$$\\frac{1}{\\lambda}e^{-\\frac{x}{\\lambda}}$$\n",
    "\n",
    "So we need to invert the MLE from the lecture notes. There it is\n",
    "\n",
    "$$\\hat\\lambda = \\frac{T}{\\sum_{t=1}^{T} x_t}$$\n",
    "\n",
    "Here it's just the reciprocal, so\n",
    "\n",
    "$$\\hat\\lambda = \\frac{\\sum_{t=1}^{T} x_t}{T}$$"
   ]
  },
  {
   "cell_type": "code",
   "execution_count": 256,
   "metadata": {
    "collapsed": false
   },
   "outputs": [],
   "source": [
    "def exp_lamda_MLE(X):\n",
    "    T = len(X)\n",
    "    s = sum(X)\n",
    "    return s/T"
   ]
  },
  {
   "cell_type": "code",
   "execution_count": 257,
   "metadata": {
    "collapsed": false
   },
   "outputs": [
    {
     "name": "stdout",
     "output_type": "stream",
     "text": [
      "lambda estimate: 4.87198861083\n"
     ]
    }
   ],
   "source": [
    "print \"lambda estimate: \" + str(exp_lamda_MLE(X))"
   ]
  },
  {
   "cell_type": "code",
   "execution_count": 258,
   "metadata": {
    "collapsed": false
   },
   "outputs": [],
   "source": [
    "# The scipy version of the exponential distribution has a location parameter\n",
    "# that can skew the distribution. We ignore this by fixing the location\n",
    "# parameter to 0 with floc=0\n",
    "_, l = scipy.stats.expon.fit(X, floc=0)"
   ]
  },
  {
   "cell_type": "code",
   "execution_count": 259,
   "metadata": {
    "collapsed": false
   },
   "outputs": [
    {
     "data": {
      "image/png": "[encoded data removed]",
      "text/plain": [
       "<matplotlib.figure.Figure at 0x7fcc441dce50>"
      ]
     },
     "metadata": {},
     "output_type": "display_data"
    }
   ],
   "source": [
    "pdf = scipy.stats.expon.pdf\n",
    "x = range(0, 80)\n",
    "h = plt.hist(X, bins=x, normed='true')\n",
    "l = plt.plot(pdf(x, scale=l))"
   ]
  },
  {
   "cell_type": "markdown",
   "metadata": {},
   "source": [
    "##MLE for Asset Returns\n",
    "\n",
    "Now we'll fetch some real returns and try to fit a normal distribution to them using MLE."
   ]
  },
  {
   "cell_type": "code",
   "execution_count": 260,
   "metadata": {
    "collapsed": false
   },
   "outputs": [
    {
     "name": "stderr",
     "output_type": "stream",
     "text": [
      "[2015-04-07 04:37:54.376769] INFO: requests.packages.urllib3.connectionpool: Starting new HTTP connection (1): localhost\n",
      "[2015-04-07 04:37:54.418188] DEBUG: requests.packages.urllib3.connectionpool: \"POST /api/pricing HTTP/1.1\" 200 5796\n"
     ]
    }
   ],
   "source": [
    "prices = get_pricing('TSLA', fields='price', start_date='2014-01-01', end_date='2015-01-01')\n",
    "# This will give us the number of dollars returned each day\n",
    "absolute_returns = np.diff(prices)\n",
    "# This will give us the percentage return over the last day's value\n",
    "# the [:-1] notation gives us all but the last item in the array\n",
    "# We do this because there are no returns on the final price in the array.\n",
    "returns = absolute_returns/prices[:-1]"
   ]
  },
  {
   "cell_type": "markdown",
   "metadata": {},
   "source": [
    "Let's use `scipy`'s fit function to get the $\\mu$ and $\\sigma$ MLEs."
   ]
  },
  {
   "cell_type": "code",
   "execution_count": 261,
   "metadata": {
    "collapsed": false
   },
   "outputs": [
    {
     "data": {
      "image/png": "[encoded data removed]",
      "text/plain": [
       "<matplotlib.figure.Figure at 0x7fcc44356b10>"
      ]
     },
     "metadata": {},
     "output_type": "display_data"
    }
   ],
   "source": [
    "mu, std = scipy.stats.norm.fit(returns)\n",
    "pdf = scipy.stats.norm.pdf\n",
    "x = np.linspace(-1,1, num=100)\n",
    "h = plt.hist(returns, bins=x, normed='true')\n",
    "l = plt.plot(x, pdf(x, loc=mu, scale=std))"
   ]
  }
 ],
 "metadata": {
  "kernelspec": {
   "display_name": "Python 2",
   "language": "python",
   "name": "python2"
  },
  "language_info": {
   "codemirror_mode": {
    "name": "ipython",
    "version": 2
   },
   "file_extension": ".py",
   "mimetype": "text/x-python",
   "name": "python",
   "nbconvert_exporter": "python",
   "pygments_lexer": "ipython2",
   "version": "2.7.6"
  }
 },
 "nbformat": 4,
 "nbformat_minor": 0
}

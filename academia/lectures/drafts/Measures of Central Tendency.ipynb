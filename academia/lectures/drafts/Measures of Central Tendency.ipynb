{
 "cells": [
  {
   "cell_type": "markdown",
   "metadata": {},
   "source": [
    "# Measures of Central Tendency\n",
    "By Evgenia \"Jenny\" Nitishinskaya and Delaney Granizo-Mackenzie\n",
    "\n",
    "Notebook released under the Creative Commons Attribution 4.0 License.\n",
    "\n",
    "---\n",
    "\n",
    "In this notebook we will discuss ways to summarize a set of data using a single number. The goal is to capture information about the distribution of data.\n",
    "\n",
    "# Arithmetic mean\n",
    "\n",
    "The arithmetic mean is used very frequently to summarize numerical data, and is usually the one assumed to be meant by the word \"average.\" It is defined as the sum of the observations divided by the number of observations:\n",
    "$$\\mu = \\frac{\\sum_{i=1}^N X_i}{N}$$\n",
    "\n",
    "where $X_1, X_2, \\ldots , X_N$ are our observations."
   ]
  },
  {
   "cell_type": "code",
   "execution_count": 103,
   "metadata": {
    "collapsed": false
   },
   "outputs": [
    {
     "name": "stdout",
     "output_type": "stream",
     "text": [
      "Mean of x1: 29 / 8 = 3.625\n",
      "Mean of x2: 129 / 9 = 14.3333333333\n"
     ]
    }
   ],
   "source": [
    "# Two useful statistical libraries\n",
    "import scipy.stats as stats\n",
    "import numpy as np\n",
    "\n",
    "# We'll use these two data sets as examples\n",
    "x1 = [1, 2, 2, 3, 4, 5, 5, 7]\n",
    "x2 = x1 + [100]\n",
    "\n",
    "print 'Mean of x1:', sum(x1), '/', len(x1), '=', np.mean(x1)\n",
    "print 'Mean of x2:', sum(x2), '/', len(x2), '=', np.mean(x2)"
   ]
  },
  {
   "cell_type": "markdown",
   "metadata": {},
   "source": [
    "We can also define a <i>weighted</i> arithmetic mean, which is useful for explicitly specifying the number of times each observation should be counted. For instance, in computing the average value of a portfolio, it is more convenient to say that 70% of your stocks are of type X rather than making a list of every share you hold.\n",
    "\n",
    "The weighted arithmetic mean is defined as\n",
    "$$\\sum_{i=1}^n w_i X_i $$\n",
    "\n",
    "where $\\sum_{i=1}^n w_i = 1$. In the usual arithmetic mean, we have $w_i = 1/n$ for all $i$."
   ]
  },
  {
   "cell_type": "markdown",
   "metadata": {
    "collapsed": true
   },
   "source": [
    "# Median\n",
    "\n",
    "The median of a set of data is the number which appears in the middle of the list when it is sorted in increasing or decreasing order. When we have an odd number $n$ of data points, this is simply the value in position $(n+1)/2$. When we have an even number of data points, the list splits in half and there is no item in the middle; so we define the median as the average of the values in positions $n/2$ and $(n+2)/2$.\n",
    "\n",
    "The median is less affected by extreme values in the data than the arithmetic mean. It tells us the value that splits the data set in half, but not how much smaller or larger the other values are."
   ]
  },
  {
   "cell_type": "code",
   "execution_count": 104,
   "metadata": {
    "collapsed": false
   },
   "outputs": [
    {
     "name": "stdout",
     "output_type": "stream",
     "text": [
      "Median of x1: 3.5\n",
      "Median of x2: 4.0\n"
     ]
    }
   ],
   "source": [
    "print 'Median of x1:', np.median(x1)\n",
    "print 'Median of x2:', np.median(x2)"
   ]
  },
  {
   "cell_type": "markdown",
   "metadata": {},
   "source": [
    "# Mode\n",
    "\n",
    "The mode is the most frequently occuring value in a data set. It can be applied to non-numerical data, unlike the mean and the median. One situation in which it is useful is for data whose possible values are independent. For example, in the outcomes of a weighted die, coming up 6 often does not mean it is likely to come up 5; so knowing that the data set has a mode of 6 is more useful than knowing it has a mean of 4.5."
   ]
  },
  {
   "cell_type": "code",
   "execution_count": 106,
   "metadata": {
    "collapsed": false
   },
   "outputs": [
    {
     "name": "stdout",
     "output_type": "stream",
     "text": [
      "One mode of x1: 2\n",
      "All of the modes of x1: [2, 5]\n"
     ]
    }
   ],
   "source": [
    "# Scipy has a built-in mode function, but it will return exactly one value\n",
    "# even if two values occur the same number of times, or if no value appears more than once\n",
    "print 'One mode of x1:', stats.mode(x1)[0][0]\n",
    "\n",
    "# So we will write our own\n",
    "def mode(l):\n",
    "    # Count the number of times each element appears in the list\n",
    "    counts = {}\n",
    "    for e in l:\n",
    "        try:\n",
    "            counts[e] += 1\n",
    "        except(KeyError):\n",
    "            counts[e] = 1\n",
    "    # Return the elements that appear the most times\n",
    "    maxcount = 0\n",
    "    modes = {}\n",
    "    for (key, value) in counts.iteritems():\n",
    "        if value > maxcount:\n",
    "            maxcount = value\n",
    "            modes = {key}\n",
    "        elif value == maxcount:\n",
    "            modes.add(key)\n",
    "    if maxcount > 1 or len(l) == 1:\n",
    "        return list(modes)\n",
    "    return 'No mode'\n",
    "    \n",
    "print 'All of the modes of x1:', mode(x1)"
   ]
  },
  {
   "cell_type": "markdown",
   "metadata": {},
   "source": [
    "For data that can take on many different values, such as return data, there may not be any values that appear more than once. In this case we can bin values, like we do when constructing a histogram, and then find the mode of the data set where each value is replaced with the name of its bin. That is, we find which bin elements fall into most often."
   ]
  },
  {
   "cell_type": "code",
   "execution_count": 112,
   "metadata": {
    "collapsed": false
   },
   "outputs": [
    {
     "name": "stdout",
     "output_type": "stream",
     "text": [
      "Mode of returns: No mode\n",
      "Mode of bins: [(-0.0012151920594887407, 0.0011015927020092131)]\n"
     ]
    }
   ],
   "source": [
    "# Get return data for an asset and compute the mode of the data set\n",
    "start = '2014-01-01'\n",
    "end = '2015-01-01'\n",
    "pricing = get_pricing('SPY', fields='price', start_date=start, end_date=end)\n",
    "returns = pricing.pct_change()[1:]\n",
    "print 'Mode of returns:', mode(returns)\n",
    "\n",
    "# Since all of the returns are distinct, we use a frequency distribution to get an alternative mode.\n",
    "# np.histogram returns the frequency distribution over the bins as well as the endpoints of the bins\n",
    "hist, bins = np.histogram(returns, 20) # Break data up into 20 bins\n",
    "maxfreq = max(hist)\n",
    "# Find all of the bins that are hit with frequency maxfreq, then print the intervals corresponding to them\n",
    "print 'Mode of bins:', [(bins[i], bins[i+1]) for i, j in enumerate(hist) if j == maxfreq]"
   ]
  },
  {
   "cell_type": "markdown",
   "metadata": {},
   "source": [
    "# Geometric mean\n",
    "\n",
    "While the arithmetic mean averages using addition, the geometric mean uses multiplication:\n",
    "$$ G = \\sqrt[n]{X_1X_1\\ldots X_n} $$\n",
    "\n",
    "for observations $X_i \\geq 0$. We can also rewrite it as an arithmetic mean using logarithms:\n",
    "$$ \\ln G = \\frac{\\sum_{i=1}^n \\ln X_i}{n} $$\n",
    "\n",
    "The geometric mean is always less than or equal to the arithmetic mean (when working with nonnegative observations), with equality only when all of the observations are the same."
   ]
  },
  {
   "cell_type": "code",
   "execution_count": 109,
   "metadata": {
    "collapsed": false
   },
   "outputs": [
    {
     "name": "stdout",
     "output_type": "stream",
     "text": [
      "Geometric mean of x1: 3.09410402498\n",
      "Geometric mean of x2: 4.55253458762\n"
     ]
    }
   ],
   "source": [
    "# Use scipy's gmean function to compute the geometric mean\n",
    "print 'Geometric mean of x1:', stats.gmean(x1)\n",
    "print 'Geometric mean of x2:', stats.gmean(x2)"
   ]
  },
  {
   "cell_type": "markdown",
   "metadata": {
    "collapsed": true
   },
   "source": [
    "What if we want to compute the geometric mean when we have negative observations? This problem is easy to solve in the case of asset returns, where our values are always at least $-1$. We can add 1 to a return $R_t$ to get $1 + R_t$, which is the ratio of the price of the asset for two consecutive periods (as opposed to the percent change between the prices, $R_t$). This quantity will always be nonnegative. So we can compute the geometric mean return,\n",
    "$$ R_G = \\sqrt[T]{(1 + R_1)\\ldots (1 + R_T)} - 1$$"
   ]
  },
  {
   "cell_type": "code",
   "execution_count": 110,
   "metadata": {
    "collapsed": false
   },
   "outputs": [
    {
     "name": "stdout",
     "output_type": "stream",
     "text": [
      "Geometric mean of returns: 0.000463575391327\n"
     ]
    }
   ],
   "source": [
    "# Add 1 to every value in the returns array and then compute R_G\n",
    "ratios = returns + np.ones(len(returns))\n",
    "R_G = stats.gmean(ratios) - 1\n",
    "print 'Geometric mean of returns:', R_G"
   ]
  },
  {
   "cell_type": "markdown",
   "metadata": {},
   "source": [
    "The geometric mean is defined so that if the rate of return over the whole time period were constant and equal to $R_G$, the final price of the security would be the same as in the case of returns $R_1, \\ldots, R_T$."
   ]
  },
  {
   "cell_type": "code",
   "execution_count": 113,
   "metadata": {
    "collapsed": false
   },
   "outputs": [
    {
     "name": "stdout",
     "output_type": "stream",
     "text": [
      "Initial price: 182.95\n",
      "Final price: 205.52\n",
      "Final price as computed with R_G: 205.52\n"
     ]
    }
   ],
   "source": [
    "T = len(returns)\n",
    "init_price = pricing[0]\n",
    "final_price = pricing[T]\n",
    "print 'Initial price:', init_price\n",
    "print 'Final price:', final_price\n",
    "print 'Final price as computed with R_G:', init_price*(1 + R_G)**T"
   ]
  },
  {
   "cell_type": "markdown",
   "metadata": {},
   "source": [
    "# Harmonic mean\n",
    "\n",
    "The harmonic mean is less commonly used than the other types of means. It is defined as\n",
    "$$ H = \\frac{n}{\\sum_{i=1}^n \\frac{1}{X_i}} $$\n",
    "\n",
    "As with the geometric mean, we can rewrite the harmonic mean to look like an arithmetic mean. The reciprocal of the harmonic mean is the arithmetic mean of the reciprocals of the observations:\n",
    "$$ \\frac{1}{H} = \\frac{\\sum_{i=1}^n \\frac{1}{X_i}}{n} $$\n",
    "\n",
    "The harmonic mean for nonnegative numbers $X_i$ is always at most the geometric mean (which is at most the arithmetic mean), and they are equal only when all of the observations are equal."
   ]
  },
  {
   "cell_type": "code",
   "execution_count": 111,
   "metadata": {
    "collapsed": false
   },
   "outputs": [
    {
     "name": "stdout",
     "output_type": "stream",
     "text": [
      "Harmonic mean of x1: 2.55902513328\n",
      "Harmonic mean of x2: 2.86972365624\n"
     ]
    }
   ],
   "source": [
    "print 'Harmonic mean of x1:', stats.hmean(x1)\n",
    "print 'Harmonic mean of x2:', stats.hmean(x2)"
   ]
  },
  {
   "cell_type": "markdown",
   "metadata": {},
   "source": [
    "The harmonic mean can be used when the data can be naturally phrased in terms of ratios. For instance, in the dollar-cost averaging strategy, a fixed amount is spent on shares of a stock at regular intervals. The higher the price of the stock, then, the fewer shares an investor following this strategy buys. The average (arithmetic mean) amount they pay for the stock is the harmonic mean of the prices."
   ]
  }
 ],
 "metadata": {
  "kernelspec": {
   "display_name": "Python 2",
   "language": "python",
   "name": "python2"
  },
  "language_info": {
   "codemirror_mode": {
    "name": "ipython",
    "version": 2
   },
   "file_extension": ".py",
   "mimetype": "text/x-python",
   "name": "python",
   "nbconvert_exporter": "python",
   "pygments_lexer": "ipython2",
   "version": "2.7.6"
  }
 },
 "nbformat": 4,
 "nbformat_minor": 0
}

{
 "cells": [
  {
   "cell_type": "markdown",
   "metadata": {},
   "source": [
    "# Unit roots\n",
    "By Evgenia \"Jenny\" Nitishinskaya and Delaney Granizo-Mackenzie\n",
    "\n",
    "Notebook released under the Creative Commons Attribution 4.0 License.\n",
    "\n",
    "---\n",
    "\n",
    "A time series is said to have a unit root if it is described by the equation $y_t = b_0 + y_{t-1} + \\epsilon_t$, where $\\epsilon_t$ is an error term with mean 0. Such a time series is not covariance stationary, i.e. its covariance changes through time. For example, a random walk has a unit root, and its covariance grows over time.\n",
    "\n",
    "The Dickey-Fuller test (available in `statsmodels`) tests for the presense of a unit root in a series."
   ]
  },
  {
   "cell_type": "code",
   "execution_count": 400,
   "metadata": {
    "collapsed": false
   },
   "outputs": [],
   "source": [
    "from statsmodels.tsa.stattools import coint, adfuller\n",
    "import pandas as pd\n",
    "\n",
    "fundamentals = init_fundamentals()\n",
    "data = get_fundamentals(query(fundamentals.income_statement.total_revenue)\n",
    "                        .filter((fundamentals.company_reference.primary_symbol == 'MCD') |\n",
    "                                (fundamentals.company_reference.primary_symbol == 'MSFT') |\n",
    "                                (fundamentals.company_reference.primary_symbol == 'KO')),\n",
    "                        '2015-01-01', '30q')\n",
    "\n",
    "# Get time series for each security individually\n",
    "x0 = data.values[0].T[1]\n",
    "x1 = data.values[0].T[2]\n",
    "x2 = data.values[0].T[0]"
   ]
  },
  {
   "cell_type": "code",
   "execution_count": 404,
   "metadata": {
    "collapsed": false
   },
   "outputs": [
    {
     "name": "stdout",
     "output_type": "stream",
     "text": [
      "p-values of Dickey-Fuller statistic on total revenue data:\n",
      "PEP: 0.0941016310217\n",
      "KO: 0.864822275634\n",
      "MSFT: 0.583291939879\n"
     ]
    }
   ],
   "source": [
    "print 'p-values of Dickey-Fuller statistic on total revenue data:'\n",
    "print 'PEP:', adfuller(x0)[1]\n",
    "print 'KO:', adfuller(x1)[1]\n",
    "print 'MSFT:', adfuller(x2)[1]"
   ]
  },
  {
   "cell_type": "markdown",
   "metadata": {},
   "source": [
    "Since $p > 0.05$, we cannot reject the hypothesis that the series has a unit root in any of these cases."
   ]
  },
  {
   "cell_type": "markdown",
   "metadata": {},
   "source": [
    "# Regression when a time series has a unit root\n",
    "\n",
    "When we use multiple time series in a regression model (whether as dependent or as independent variables), we must test for the presence of unit roots.\n",
    "\n",
    "If none of the series involved have unit roots, we can proceed as usual, and our regression analysis will be valid.\n",
    "\n",
    "If some of the series have unit roots and some do not, the error term in the regression will not be covariance stationary, causing a violation of at least one of the following regression assumptions: that the expected value of the error term is 0, that the error term is homoskedastic, or that the error term is not autocorrelated. Then the regression coefficients and standard errors will be inconsistent, and may falsely appear to be significant. We should not use linear regression in this case.\n",
    "\n",
    "If all series have unit roots, we need to check for cointegration - that is, whether the error term in the regression is stationary. We'll discuss cointegration below, but for now let's go over the implications. If the time series are not cointegrated, we have the same problems as before with nonstationary error terms. If they are cointegrated, however, the regression coefficients and standard errors will be consistent, and we can use ordinary least-squares regression. However, there also exist finer models for cointegrated time series."
   ]
  },
  {
   "cell_type": "markdown",
   "metadata": {},
   "source": [
    "# Cointegration\n",
    "\n",
    "Two or more time series are cointegrated if the error term in the regression is stationary. Intuitively, this means that they do not diverge arbitrarily. In practice, this often means that there is a relationship between the series that causes them to move in tandem. We can test for cointegration by checking if the error term has a unit root, or just use the test implemented in `statsmodels`."
   ]
  },
  {
   "cell_type": "code",
   "execution_count": 405,
   "metadata": {
    "collapsed": false
   },
   "outputs": [
    {
     "name": "stdout",
     "output_type": "stream",
     "text": [
      "p-values of cointegration statistic on total revenue data:\n",
      "MCD and MSFT: 0.105977174014\n",
      "MCD and KO: 0.0151732358446\n",
      "MSFT and KO: 0.15076649237\n"
     ]
    }
   ],
   "source": [
    "# Compute the p-value for the cointegration of the two series\n",
    "print 'p-values of cointegration statistic on total revenue data:'\n",
    "print 'MCD and MSFT:', coint(x0, x1)[1]\n",
    "print 'MCD and KO:', coint(x0, x2)[1]\n",
    "print 'MSFT and KO:', coint(x1, x2)[1]"
   ]
  },
  {
   "cell_type": "markdown",
   "metadata": {},
   "source": [
    "From the statistics, we can see that MCD and KO are cointegrated, while the other two pairs are not. Therefore, it would be valid to run a linear regression on MCD and KO only. This supports our claim that cointegrated series have an underlying economic relationship, since many of the same factors affect McDonald's and The Coca-Cola Company revenues, but not Microsoft's."
   ]
  }
 ],
 "metadata": {
  "kernelspec": {
   "display_name": "Python 2",
   "language": "python",
   "name": "python2"
  },
  "language_info": {
   "codemirror_mode": {
    "name": "ipython",
    "version": 2
   },
   "file_extension": ".py",
   "mimetype": "text/x-python",
   "name": "python",
   "nbconvert_exporter": "python",
   "pygments_lexer": "ipython2",
   "version": "2.7.6"
  }
 },
 "nbformat": 4,
 "nbformat_minor": 0
}

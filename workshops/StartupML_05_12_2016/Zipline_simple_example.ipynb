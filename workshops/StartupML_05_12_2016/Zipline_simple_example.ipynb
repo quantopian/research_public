{
 "cells": [
  {
   "cell_type": "markdown",
   "metadata": {},
   "source": [
    "# Simple Example that implement a basic moving-average crossover strategy with SPY\n",
    "### Buy SPY if 50-day moving-average cross above 200-day moving-average"
   ]
  },
  {
   "cell_type": "markdown",
   "metadata": {},
   "source": [
    "#### From: http://www.zipline.io/beginner-tutorial.html#ipython-notebook"
   ]
  },
  {
   "cell_type": "markdown",
   "metadata": {},
   "source": [
    "#### Working example: Dual Moving Average Crossover\n",
    "The Dual Moving Average (DMA) is a classic momentum strategy. It’s probably not used by any serious trader anymore but is still very instructive. The basic idea is that we compute two rolling or moving averages (mavg) – one with a longer window that is supposed to capture long-term trends and one shorter window that is supposed to capture short-term trends. Once the short-mavg crosses the long-mavg from below we assume that the stock price has upwards momentum and long the stock. If the short-mavg crosses from above we exit the positions as we assume the stock to go down further.\n",
    "\n",
    "As we need to have access to previous prices to implement this strategy we need a new concept: History\n",
    "\n",
    "history() is a convenience function that keeps a rolling window of data for you. The first argument is the number of bars you want to collect, the second argument is the unit (either '1d' for '1m' but note that you need to have minute-level data for using 1m). For a more detailed description history()‘s features, see the Quantopian docs. While you can directly use the history() function on Quantopian, in zipline you have to register each history container you want to use with add_history() and pass it the same arguments as the history function below. Lets look at the strategy which should make this clear:"
   ]
  },
  {
   "cell_type": "code",
   "execution_count": 1,
   "metadata": {
    "collapsed": false
   },
   "outputs": [
    {
     "name": "stdout",
     "output_type": "stream",
     "text": [
      "Populating the interactive namespace from numpy and matplotlib\n"
     ]
    }
   ],
   "source": [
    "%pylab inline --no-import-all"
   ]
  },
  {
   "cell_type": "code",
   "execution_count": 2,
   "metadata": {
    "collapsed": false
   },
   "outputs": [
    {
     "name": "stdout",
     "output_type": "stream",
     "text": [
      "SPY\n"
     ]
    }
   ],
   "source": [
    "import pytz\n",
    "from datetime import datetime\n",
    "\n",
    "from zipline.algorithm import TradingAlgorithm\n",
    "from zipline.utils.factory import load_bars_from_yahoo\n",
    "\n",
    "# Load data manually from Yahoo! finance\n",
    "start = datetime(2000, 1, 1, 0, 0, 0, 0, pytz.utc)\n",
    "end = datetime(2016, 5, 4, 0, 0, 0, 0, pytz.utc)\n",
    "\n",
    "data = load_bars_from_yahoo(stocks=['SPY'], start=start,\n",
    "                            end=end)"
   ]
  },
  {
   "cell_type": "code",
   "execution_count": 3,
   "metadata": {
    "collapsed": true
   },
   "outputs": [],
   "source": [
    "from zipline.api import order_target_percent, record, symbol, history, add_history\n",
    "import numpy as np\n",
    "\n",
    "def initialize(context):\n",
    "    # Register 2 histories that track daily prices,\n",
    "    # one with a 50 window and one with a 200 day window\n",
    "    add_history(50, '1d', 'price')\n",
    "    add_history(200, '1d', 'price')\n",
    "\n",
    "    context.trade_count = 0\n",
    "    \n",
    "    context.i = 0\n",
    "\n",
    "def handle_data(context, data):\n",
    "    # Skip first 200 days to get full windows of data before running any trading logic\n",
    "    context.i += 1\n",
    "    if context.i < 200:\n",
    "        return\n",
    "\n",
    "    # Compute moving-averages below\n",
    "    # history() has to be called with the same params as used above in the initialize method 'add_history' calls\n",
    "    # history() returns a pandas dataframe.\n",
    "    \n",
    "    short_mavg = history(50, '1d', 'price').mean()\n",
    "    long_mavg = history(200, '1d', 'price').mean()\n",
    "    \n",
    "    # Trading logic\n",
    "    if short_mavg[0] > long_mavg[0]:\n",
    "        # only enter this trade if you are not already in a previous trade\n",
    "        if len(context.portfolio.positions) < 1:\n",
    "            context.trade_count += 1\n",
    "            print \"Trade: \" + str(context.trade_count)\n",
    "            # order_target_percent orders as many shares as needed to invest X% of your account value.\n",
    "            order_target_percent(symbol('SPY'), 1.0)\n",
    "    elif short_mavg[0] < long_mavg[0]:\n",
    "        order_target_percent(symbol('SPY'), 0)\n",
    "\n",
    "    # Save values for later inspection\n",
    "    record(SPY_price=data[symbol('SPY')].price,\n",
    "           short_mavg=short_mavg[0],\n",
    "           long_mavg=long_mavg[0])"
   ]
  },
  {
   "cell_type": "code",
   "execution_count": 4,
   "metadata": {
    "collapsed": false
   },
   "outputs": [
    {
     "name": "stdout",
     "output_type": "stream",
     "text": [
      "Trade: 1\n",
      "Trade: 2\n",
      "Trade: 3\n",
      "Trade: 4\n",
      "Trade: 5\n",
      "Trade: 6\n",
      "Trade: 7\n",
      "Trade: 8\n",
      "Trade: 9\n",
      "Trade: 10\n"
     ]
    }
   ],
   "source": [
    "# Create algorithm object passing in initialize() and handle_data() functions\n",
    "algo_obj = TradingAlgorithm(initialize=initialize,\n",
    "                            handle_data=handle_data)\n",
    "\n",
    "# Run algorithm\n",
    "perf_manual = algo_obj.run(data)"
   ]
  },
  {
   "cell_type": "code",
   "execution_count": 5,
   "metadata": {
    "collapsed": false
   },
   "outputs": [
    {
     "data": {
      "text/plain": [
       "<matplotlib.text.Text at 0x10b969910>"
      ]
     },
     "execution_count": 5,
     "metadata": {},
     "output_type": "execute_result"
    },
    {
     "data": {
      "image/png": "[encoded data removed]",
      "text/plain": [
       "<matplotlib.figure.Figure at 0x108d72190>"
      ]
     },
     "metadata": {},
     "output_type": "display_data"
    }
   ],
   "source": [
    "figsize(13,5)\n",
    "\n",
    "perf_manual.portfolio_value.plot()\n",
    "\n",
    "plt.ylabel(\"Portfolio Value\")"
   ]
  },
  {
   "cell_type": "code",
   "execution_count": 6,
   "metadata": {
    "collapsed": false,
    "scrolled": true
   },
   "outputs": [
    {
     "data": {
      "text/plain": [
       "<matplotlib.text.Text at 0x10d3ae1d0>"
      ]
     },
     "execution_count": 6,
     "metadata": {},
     "output_type": "execute_result"
    },
    {
     "data": {
      "image/png": "[encoded data removed]",
      "text/plain": [
       "<matplotlib.figure.Figure at 0x10bb3a110>"
      ]
     },
     "metadata": {},
     "output_type": "display_data"
    }
   ],
   "source": [
    "figsize(13,2)\n",
    "# gross_leverage shows you how much of your portfolio was invested each day\n",
    "# in this case it goes between 0 and 1 depending on if we were holding AAPL in our algo,\n",
    "# if we were trading on margin, gross_leverage could be > 1.\n",
    "\n",
    "perf_manual.gross_leverage.plot()\n",
    "\n",
    "plt.ylabel(\"Amount of Account Invested\")"
   ]
  },
  {
   "cell_type": "code",
   "execution_count": 7,
   "metadata": {
    "collapsed": false
   },
   "outputs": [
    {
     "data": {
      "text/plain": [
       "<matplotlib.axes._subplots.AxesSubplot at 0x10d615f50>"
      ]
     },
     "execution_count": 7,
     "metadata": {},
     "output_type": "execute_result"
    },
    {
     "data": {
      "image/png": "[encoded data removed]",
      "text/plain": [
       "<matplotlib.figure.Figure at 0x10e260e90>"
      ]
     },
     "metadata": {},
     "output_type": "display_data"
    }
   ],
   "source": [
    "# net_leverage nets your long exposure with your short exposure, and reports the difference.\n",
    "# in this case since we do not short with this strategy, net_leverage == gross_leverage\n",
    "perf_manual.net_leverage.plot()"
   ]
  },
  {
   "cell_type": "code",
   "execution_count": 8,
   "metadata": {
    "collapsed": false
   },
   "outputs": [
    {
     "data": {
      "text/plain": [
       "Index([u'SPY_price', u'algo_volatility', u'algorithm_period_return', u'alpha',\n",
       "       u'benchmark_period_return', u'benchmark_volatility', u'beta',\n",
       "       u'capital_used', u'ending_cash', u'ending_exposure', u'ending_value',\n",
       "       u'excess_return', u'gross_leverage', u'information', u'long_exposure',\n",
       "       u'long_mavg', u'long_value', u'longs_count', u'max_drawdown',\n",
       "       u'max_leverage', u'net_leverage', u'orders', u'period_close',\n",
       "       u'period_label', u'period_open', u'pnl', u'portfolio_value',\n",
       "       u'positions', u'returns', u'sharpe', u'short_exposure', u'short_mavg',\n",
       "       u'short_value', u'shorts_count', u'sortino', u'starting_cash',\n",
       "       u'starting_exposure', u'starting_value', u'trading_days',\n",
       "       u'transactions', u'treasury_period_return'],\n",
       "      dtype='object')"
      ]
     },
     "execution_count": 8,
     "metadata": {},
     "output_type": "execute_result"
    }
   ],
   "source": [
    "perf_manual.columns"
   ]
  },
  {
   "cell_type": "code",
   "execution_count": 9,
   "metadata": {
    "collapsed": false
   },
   "outputs": [
    {
     "data": {
      "text/html": [
       "<div>\n",
       "<table border=\"1\" class=\"dataframe\">\n",
       "  <thead>\n",
       "    <tr style=\"text-align: right;\">\n",
       "      <th></th>\n",
       "      <th>SPY_price</th>\n",
       "      <th>algo_volatility</th>\n",
       "      <th>algorithm_period_return</th>\n",
       "      <th>alpha</th>\n",
       "      <th>benchmark_period_return</th>\n",
       "      <th>benchmark_volatility</th>\n",
       "      <th>beta</th>\n",
       "      <th>capital_used</th>\n",
       "      <th>ending_cash</th>\n",
       "      <th>ending_exposure</th>\n",
       "      <th>...</th>\n",
       "      <th>short_mavg</th>\n",
       "      <th>short_value</th>\n",
       "      <th>shorts_count</th>\n",
       "      <th>sortino</th>\n",
       "      <th>starting_cash</th>\n",
       "      <th>starting_exposure</th>\n",
       "      <th>starting_value</th>\n",
       "      <th>trading_days</th>\n",
       "      <th>transactions</th>\n",
       "      <th>treasury_period_return</th>\n",
       "    </tr>\n",
       "  </thead>\n",
       "  <tbody>\n",
       "    <tr>\n",
       "      <th>2016-04-28 20:00:00</th>\n",
       "      <td>207.449997</td>\n",
       "      <td>0.110684</td>\n",
       "      <td>1.793475</td>\n",
       "      <td>0.089635</td>\n",
       "      <td>0.408959</td>\n",
       "      <td>0.200272</td>\n",
       "      <td>0.304124</td>\n",
       "      <td>0</td>\n",
       "      <td>1571.916119</td>\n",
       "      <td>277775.545983</td>\n",
       "      <td>...</td>\n",
       "      <td>202.503566</td>\n",
       "      <td>0</td>\n",
       "      <td>0</td>\n",
       "      <td>1.024871</td>\n",
       "      <td>1571.916119</td>\n",
       "      <td>280319.658034</td>\n",
       "      <td>280319.658034</td>\n",
       "      <td>4106</td>\n",
       "      <td>[]</td>\n",
       "      <td>0.0184</td>\n",
       "    </tr>\n",
       "    <tr>\n",
       "      <th>2016-04-29 20:00:00</th>\n",
       "      <td>206.330002</td>\n",
       "      <td>0.110679</td>\n",
       "      <td>1.778478</td>\n",
       "      <td>0.088892</td>\n",
       "      <td>0.401825</td>\n",
       "      <td>0.200251</td>\n",
       "      <td>0.304156</td>\n",
       "      <td>0</td>\n",
       "      <td>1571.916119</td>\n",
       "      <td>276275.872678</td>\n",
       "      <td>...</td>\n",
       "      <td>202.808079</td>\n",
       "      <td>0</td>\n",
       "      <td>0</td>\n",
       "      <td>1.015560</td>\n",
       "      <td>1571.916119</td>\n",
       "      <td>277775.545983</td>\n",
       "      <td>277775.545983</td>\n",
       "      <td>4107</td>\n",
       "      <td>[]</td>\n",
       "      <td>0.0183</td>\n",
       "    </tr>\n",
       "    <tr>\n",
       "      <th>2016-05-02 20:00:00</th>\n",
       "      <td>207.970001</td>\n",
       "      <td>0.110682</td>\n",
       "      <td>1.800437</td>\n",
       "      <td>0.089662</td>\n",
       "      <td>0.412774</td>\n",
       "      <td>0.200236</td>\n",
       "      <td>0.304218</td>\n",
       "      <td>0</td>\n",
       "      <td>1571.916119</td>\n",
       "      <td>278471.831339</td>\n",
       "      <td>...</td>\n",
       "      <td>203.147183</td>\n",
       "      <td>0</td>\n",
       "      <td>0</td>\n",
       "      <td>1.024734</td>\n",
       "      <td>1571.916119</td>\n",
       "      <td>276275.872678</td>\n",
       "      <td>276275.872678</td>\n",
       "      <td>4108</td>\n",
       "      <td>[]</td>\n",
       "      <td>0.0188</td>\n",
       "    </tr>\n",
       "    <tr>\n",
       "      <th>2016-05-03 20:00:00</th>\n",
       "      <td>206.160004</td>\n",
       "      <td>0.110691</td>\n",
       "      <td>1.776202</td>\n",
       "      <td>0.088866</td>\n",
       "      <td>0.400515</td>\n",
       "      <td>0.200224</td>\n",
       "      <td>0.304303</td>\n",
       "      <td>0</td>\n",
       "      <td>1571.916119</td>\n",
       "      <td>276048.245356</td>\n",
       "      <td>...</td>\n",
       "      <td>203.394772</td>\n",
       "      <td>0</td>\n",
       "      <td>0</td>\n",
       "      <td>1.015626</td>\n",
       "      <td>1571.916119</td>\n",
       "      <td>278471.831339</td>\n",
       "      <td>278471.831339</td>\n",
       "      <td>4109</td>\n",
       "      <td>[]</td>\n",
       "      <td>0.0181</td>\n",
       "    </tr>\n",
       "    <tr>\n",
       "      <th>2016-05-04 20:00:00</th>\n",
       "      <td>205.009995</td>\n",
       "      <td>0.110687</td>\n",
       "      <td>1.760803</td>\n",
       "      <td>0.088191</td>\n",
       "      <td>0.392201</td>\n",
       "      <td>0.200205</td>\n",
       "      <td>0.304340</td>\n",
       "      <td>0</td>\n",
       "      <td>1571.916119</td>\n",
       "      <td>274508.383305</td>\n",
       "      <td>...</td>\n",
       "      <td>203.668308</td>\n",
       "      <td>0</td>\n",
       "      <td>0</td>\n",
       "      <td>1.007159</td>\n",
       "      <td>1571.916119</td>\n",
       "      <td>276048.245356</td>\n",
       "      <td>276048.245356</td>\n",
       "      <td>4110</td>\n",
       "      <td>[]</td>\n",
       "      <td>0.0179</td>\n",
       "    </tr>\n",
       "  </tbody>\n",
       "</table>\n",
       "<p>5 rows × 41 columns</p>\n",
       "</div>"
      ],
      "text/plain": [
       "                      SPY_price  algo_volatility  algorithm_period_return  \\\n",
       "2016-04-28 20:00:00  207.449997         0.110684                 1.793475   \n",
       "2016-04-29 20:00:00  206.330002         0.110679                 1.778478   \n",
       "2016-05-02 20:00:00  207.970001         0.110682                 1.800437   \n",
       "2016-05-03 20:00:00  206.160004         0.110691                 1.776202   \n",
       "2016-05-04 20:00:00  205.009995         0.110687                 1.760803   \n",
       "\n",
       "                        alpha  benchmark_period_return  benchmark_volatility  \\\n",
       "2016-04-28 20:00:00  0.089635                 0.408959              0.200272   \n",
       "2016-04-29 20:00:00  0.088892                 0.401825              0.200251   \n",
       "2016-05-02 20:00:00  0.089662                 0.412774              0.200236   \n",
       "2016-05-03 20:00:00  0.088866                 0.400515              0.200224   \n",
       "2016-05-04 20:00:00  0.088191                 0.392201              0.200205   \n",
       "\n",
       "                         beta  capital_used  ending_cash  ending_exposure  \\\n",
       "2016-04-28 20:00:00  0.304124             0  1571.916119    277775.545983   \n",
       "2016-04-29 20:00:00  0.304156             0  1571.916119    276275.872678   \n",
       "2016-05-02 20:00:00  0.304218             0  1571.916119    278471.831339   \n",
       "2016-05-03 20:00:00  0.304303             0  1571.916119    276048.245356   \n",
       "2016-05-04 20:00:00  0.304340             0  1571.916119    274508.383305   \n",
       "\n",
       "                              ...            short_mavg  short_value  \\\n",
       "2016-04-28 20:00:00           ...            202.503566            0   \n",
       "2016-04-29 20:00:00           ...            202.808079            0   \n",
       "2016-05-02 20:00:00           ...            203.147183            0   \n",
       "2016-05-03 20:00:00           ...            203.394772            0   \n",
       "2016-05-04 20:00:00           ...            203.668308            0   \n",
       "\n",
       "                     shorts_count   sortino  starting_cash  starting_exposure  \\\n",
       "2016-04-28 20:00:00             0  1.024871    1571.916119      280319.658034   \n",
       "2016-04-29 20:00:00             0  1.015560    1571.916119      277775.545983   \n",
       "2016-05-02 20:00:00             0  1.024734    1571.916119      276275.872678   \n",
       "2016-05-03 20:00:00             0  1.015626    1571.916119      278471.831339   \n",
       "2016-05-04 20:00:00             0  1.007159    1571.916119      276048.245356   \n",
       "\n",
       "                     starting_value  trading_days  transactions  \\\n",
       "2016-04-28 20:00:00   280319.658034          4106            []   \n",
       "2016-04-29 20:00:00   277775.545983          4107            []   \n",
       "2016-05-02 20:00:00   276275.872678          4108            []   \n",
       "2016-05-03 20:00:00   278471.831339          4109            []   \n",
       "2016-05-04 20:00:00   276048.245356          4110            []   \n",
       "\n",
       "                     treasury_period_return  \n",
       "2016-04-28 20:00:00                  0.0184  \n",
       "2016-04-29 20:00:00                  0.0183  \n",
       "2016-05-02 20:00:00                  0.0188  \n",
       "2016-05-03 20:00:00                  0.0181  \n",
       "2016-05-04 20:00:00                  0.0179  \n",
       "\n",
       "[5 rows x 41 columns]"
      ]
     },
     "execution_count": 9,
     "metadata": {},
     "output_type": "execute_result"
    }
   ],
   "source": [
    "perf_manual.tail()"
   ]
  },
  {
   "cell_type": "code",
   "execution_count": 10,
   "metadata": {
    "collapsed": false
   },
   "outputs": [
    {
     "data": {
      "text/html": [
       "<div>\n",
       "<table border=\"1\" class=\"dataframe\">\n",
       "  <thead>\n",
       "    <tr style=\"text-align: right;\">\n",
       "      <th></th>\n",
       "      <th>SPY_price</th>\n",
       "      <th>short_mavg</th>\n",
       "      <th>long_mavg</th>\n",
       "    </tr>\n",
       "  </thead>\n",
       "  <tbody>\n",
       "    <tr>\n",
       "      <th>2016-04-28 20:00:00</th>\n",
       "      <td>207.449997</td>\n",
       "      <td>202.503566</td>\n",
       "      <td>199.761111</td>\n",
       "    </tr>\n",
       "    <tr>\n",
       "      <th>2016-04-29 20:00:00</th>\n",
       "      <td>206.330002</td>\n",
       "      <td>202.808079</td>\n",
       "      <td>199.756699</td>\n",
       "    </tr>\n",
       "    <tr>\n",
       "      <th>2016-05-02 20:00:00</th>\n",
       "      <td>207.970001</td>\n",
       "      <td>203.147183</td>\n",
       "      <td>199.752173</td>\n",
       "    </tr>\n",
       "    <tr>\n",
       "      <th>2016-05-03 20:00:00</th>\n",
       "      <td>206.160004</td>\n",
       "      <td>203.394772</td>\n",
       "      <td>199.737761</td>\n",
       "    </tr>\n",
       "    <tr>\n",
       "      <th>2016-05-04 20:00:00</th>\n",
       "      <td>205.009995</td>\n",
       "      <td>203.668308</td>\n",
       "      <td>199.717009</td>\n",
       "    </tr>\n",
       "  </tbody>\n",
       "</table>\n",
       "</div>"
      ],
      "text/plain": [
       "                      SPY_price  short_mavg   long_mavg\n",
       "2016-04-28 20:00:00  207.449997  202.503566  199.761111\n",
       "2016-04-29 20:00:00  206.330002  202.808079  199.756699\n",
       "2016-05-02 20:00:00  207.970001  203.147183  199.752173\n",
       "2016-05-03 20:00:00  206.160004  203.394772  199.737761\n",
       "2016-05-04 20:00:00  205.009995  203.668308  199.717009"
      ]
     },
     "execution_count": 10,
     "metadata": {},
     "output_type": "execute_result"
    }
   ],
   "source": [
    "perf_manual[['SPY_price', 'short_mavg', 'long_mavg']].tail()"
   ]
  },
  {
   "cell_type": "code",
   "execution_count": null,
   "metadata": {
    "collapsed": true
   },
   "outputs": [],
   "source": []
  }
 ],
 "metadata": {
  "kernelspec": {
   "display_name": "Python 2",
   "language": "python",
   "name": "python2"
  },
  "language_info": {
   "codemirror_mode": {
    "name": "ipython",
    "version": 2
   },
   "file_extension": ".py",
   "mimetype": "text/x-python",
   "name": "python",
   "nbconvert_exporter": "python",
   "pygments_lexer": "ipython2",
   "version": "2.7.10"
  }
 },
 "nbformat": 4,
 "nbformat_minor": 0
}

{
 "cells": [
  {
   "cell_type": "markdown",
   "metadata": {},
   "source": [
    "# Alphalens Quickstart Template"
   ]
  },
  {
   "cell_type": "code",
   "execution_count": null,
   "metadata": {},
   "outputs": [],
   "source": [
    "from quantopian.pipeline import Pipeline\n",
    "from quantopian.research import run_pipeline\n",
    "from quantopian.pipeline.data import factset, USEquityPricing\n",
    "from quantopian.pipeline.factors import SimpleMovingAverage, AverageDollarVolume\n",
    "\n",
    "from alphalens.performance import mean_information_coefficient\n",
    "from alphalens.utils import get_clean_factor_and_forward_returns\n",
    "from alphalens.tears import create_information_tear_sheet, create_returns_tear_sheet"
   ]
  },
  {
   "cell_type": "markdown",
   "metadata": {},
   "source": [
    "## Define Your Alpha Factor Here\n",
    "\n",
    "Spend your time in this cell, creating good factors. Then simply run the rest of the notebook to analyze `factor_to_analyze`!"
   ]
  },
  {
   "cell_type": "code",
   "execution_count": null,
   "metadata": {},
   "outputs": [],
   "source": [
    "def make_pipeline():\n",
    "    # Filter out equities with low market capitalization\n",
    "    market_cap_filter = factset.Fundamentals.mkt_val.latest > 500000000\n",
    "\n",
    "    # Filter out equities with low volume\n",
    "    volume_filter = AverageDollarVolume(window_length=200) > 2500000\n",
    "\n",
    "    # Filter out equities with a close price below $5\n",
    "    price_filter = USEquityPricing.close.latest > 5\n",
    "\n",
    "    # Our final base universe\n",
    "    base_universe = market_cap_filter & volume_filter & price_filter\n",
    "    \n",
    "    assets_moving_average = SimpleMovingAverage(inputs=[factset.Fundamentals.assets], window_length=252)\n",
    "    current_assets = factset.Fundamentals.assets.latest\n",
    "    \n",
    "    # This is the factor that the rest of the notebook will analyze\n",
    "    factor_to_analyze = (current_assets - assets_moving_average)\n",
    "    \n",
    "    # The following columns will help us group assets by market cap. This will allow us to analyze\n",
    "    # whether our alpha factor's predictiveness varies among assets with different market caps.\n",
    "    market_cap = factset.Fundamentals.mkt_val.latest\n",
    "    cap_type = market_cap.quantiles(bins=3, mask=base_universe)\n",
    "\n",
    "    return Pipeline(\n",
    "        columns = {\n",
    "            'factor_to_analyze': factor_to_analyze,\n",
    "            'cap_type': cap_type\n",
    "            \n",
    "        },\n",
    "        screen = (\n",
    "            base_universe\n",
    "            & factor_to_analyze.notnull()\n",
    "            & market_cap.notnull()\n",
    "        )\n",
    "    )\n",
    "\n",
    "pipeline_output = run_pipeline(make_pipeline(), '2015-1-1', '2016-1-1')\n",
    "# rename the 1's, 2's and 3's for clarity\n",
    "pipeline_output['cap_type'].replace([1, 2, 3], ['small_cap', 'mid_cap', 'large_cap'], inplace=True)\n",
    "\n",
    "pricing_data = get_pricing(pipeline_output.index.levels[1], '2015-1-1', '2016-6-1', fields='open_price')"
   ]
  },
  {
   "cell_type": "markdown",
   "metadata": {},
   "source": [
    "## Create Group Neutral Tear Sheets"
   ]
  },
  {
   "cell_type": "code",
   "execution_count": null,
   "metadata": {},
   "outputs": [],
   "source": [
    "factor_data = get_clean_factor_and_forward_returns(\n",
    "    factor = pipeline_output['factor_to_analyze'],\n",
    "    prices = pricing_data,\n",
    "    groupby = pipeline_output['cap_type'],\n",
    "    binning_by_group = True,\n",
    "    periods = (1,5,10)\n",
    ")\n",
    "\n",
    "create_information_tear_sheet(factor_data, by_group=True, group_neutral=True)\n",
    "create_returns_tear_sheet(factor_data, by_group=True, group_neutral=True)"
   ]
  },
  {
   "cell_type": "markdown",
   "metadata": {},
   "source": [
    "## Determine The Decay Rate Of Your Alpha Factor"
   ]
  },
  {
   "cell_type": "code",
   "execution_count": null,
   "metadata": {},
   "outputs": [],
   "source": [
    "longest_look_forward_period = 63 # week = 5, month = 21, quarter = 63, year = 252\n",
    "range_step = 5\n",
    "\n",
    "factor_data = get_clean_factor_and_forward_returns(\n",
    "    factor = pipeline_output['factor_to_analyze'],\n",
    "    prices = pricing_data,\n",
    "    periods = range(1, longest_look_forward_period, range_step)\n",
    ")\n",
    "\n",
    "mean_information_coefficient(factor_data).plot(title=\"IC Decay\")"
   ]
  },
  {
   "cell_type": "code",
   "execution_count": null,
   "metadata": {},
   "outputs": [],
   "source": []
  }
 ],
 "metadata": {
  "kernelspec": {
   "display_name": "Python 3",
   "language": "python",
   "name": "python3"
  },
  "language_info": {
   "codemirror_mode": {
    "name": "ipython",
    "version": 3
   },
   "file_extension": ".py",
   "mimetype": "text/x-python",
   "name": "python",
   "nbconvert_exporter": "python",
   "pygments_lexer": "ipython3",
   "version": "3.7.0"
  }
 },
 "nbformat": 4,
 "nbformat_minor": 2
}
